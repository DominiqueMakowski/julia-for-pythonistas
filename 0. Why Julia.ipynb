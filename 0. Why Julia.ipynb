{
 "cells": [
  {
   "cell_type": "markdown",
   "metadata": {
    "nbpresent": {
     "id": "356b3db5-699d-4c86-a408-c91b72158ffe"
    },
    "slideshow": {
     "slide_type": "slide"
    }
   },
   "source": [
    "# Introduction to Julia for Pythonistas\n",
    "\n",
    "<img src=\"http://pearsonlab.github.io/images/plab_hex_icon_gray.png\" width=\"150\", align=\"left\", style=\"float:left\">\n",
    "<img src=\"http://www.duke.edu/~jmp33/assets/dibs-logo-small.png\" width=\"350\", align=\"left\", style=\"float:right\">\n",
    "\n",
    "<br>\n",
    "John Pearson  \n",
    "P[&lambda;]ab  \n",
    "Duke Institute for Brain Sciences"
   ]
  },
  {
   "cell_type": "markdown",
   "metadata": {
    "slideshow": {
     "slide_type": "slide"
    }
   },
   "source": [
    "# Following along\n",
    "\n",
    "<img src=\"https://cdn.meme.am/instances/500x/71711850.jpg\">\n",
    "\n",
    "## If you have Julia...\n",
    "Slides and other material available at https://github.com/jmxpearson/julia-for-pythonistas"
   ]
  },
  {
   "cell_type": "markdown",
   "metadata": {
    "slideshow": {
     "slide_type": "slide"
    }
   },
   "source": [
    "# About me\n",
    "\n",
    "<img src=\"http://pearsonlab.github.io/images/plab_logo_dark.svg\" width=\"400\">\n",
    "\n",
    "- @jmxpearson on GitHub and (rarely) Twitter; [pearsonlab.github.io](http://pearsonlab.github.io)\n",
    "- computational neuroscience lab at Duke\n",
    "- using Julia for about 1.5 years\n",
    "- member of JuliaStats organization"
   ]
  },
  {
   "cell_type": "markdown",
   "metadata": {
    "slideshow": {
     "slide_type": "slide"
    }
   },
   "source": [
    "# What is Julia?\n",
    "\n",
    "- new programming language (public since 2012)\n",
    "- brought to you by MIT, Julia Computing\n",
    "- focused on scientific computing applications\n",
    "- aims to be a high-level prototyping language that is also fast enough for serious simulation\n",
    "    - as easy to learn and flexible as Python or R\n",
    "    - within 2x the speed of C, C++, or FORTRAN\n",
    "- Currently (almost) 0.5, with very active developer community"
   ]
  },
  {
   "cell_type": "markdown",
   "metadata": {
    "slideshow": {
     "slide_type": "slide"
    }
   },
   "source": [
    "# Reasons to Consider Julia\n",
    "\n",
    "- you mostly write your own algorithms\n",
    "- you need to write code that is very fast\n",
    "- you’d like to prototype and optimize within the same language\n",
    "- you want zero overhead boilerplate calls to C, Python (and soon C++)\n",
    "- you need powerful metaprogramming/macros\n",
    "- you want access to state-of-the-art automatic differentiation and optimization\n",
    "- you want to use Greek letters in variable names\n",
    "- you are interested in programming language design\n",
    "- you want to get in on the ground floor"
   ]
  },
  {
   "cell_type": "markdown",
   "metadata": {
    "slideshow": {
     "slide_type": "slide"
    }
   },
   "source": [
    "# Reasons Julia may not be for you (yet)\n",
    "\n",
    "- you mostly use packages written by others\n",
    "- you rely critically on several packages that aren't available\n",
    "- you don’t have much need to optimize your code\n",
    "- you perform mostly data analysis and model building, as opposed to algorithm development\n",
    "- you prioritize stability and reliability \n",
    "    - (or don’t write a lot of tests for your own code)\n",
    "- you don’t want to devote time to keeping up with changes\n",
    "- you have zero background with compiled languages"
   ]
  }
 ],
 "metadata": {
  "anaconda-cloud": {},
  "celltoolbar": "Slideshow",
  "kernelspec": {
   "display_name": "Julia 0.4.6",
   "language": "julia",
   "name": "julia-0.4"
  },
  "language_info": {
   "file_extension": ".jl",
   "mimetype": "application/julia",
   "name": "julia",
   "version": "0.4.6"
  },
  "nbpresent": {
   "slides": {},
   "themes": {}
  }
 },
 "nbformat": 4,
 "nbformat_minor": 0
}
